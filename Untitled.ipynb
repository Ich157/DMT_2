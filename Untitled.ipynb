{
 "cells": [
  {
   "cell_type": "code",
   "execution_count": 1,
   "id": "694b0ff1",
   "metadata": {},
   "outputs": [
    {
     "ename": "NameError",
     "evalue": "name 'pd' is not defined",
     "output_type": "error",
     "traceback": [
      "\u001b[1;31m---------------------------------------------------------------------------\u001b[0m",
      "\u001b[1;31mNameError\u001b[0m                                 Traceback (most recent call last)",
      "Input \u001b[1;32mIn [1]\u001b[0m, in \u001b[0;36m<cell line: 1>\u001b[1;34m()\u001b[0m\n\u001b[1;32m----> 1\u001b[0m df \u001b[38;5;241m=\u001b[39m \u001b[43mpd\u001b[49m\u001b[38;5;241m.\u001b[39mread_csv(\u001b[38;5;124m\"\u001b[39m\u001b[38;5;124mdata/pre_processed_data.csv\u001b[39m\u001b[38;5;124m\"\u001b[39m)\n",
      "\u001b[1;31mNameError\u001b[0m: name 'pd' is not defined"
     ]
    }
   ],
   "source": [
    "df = pd.read_csv(\"data/pre_processed_data.csv\")"
   ]
  },
  {
   "cell_type": "code",
   "execution_count": 2,
   "id": "0d4214b3",
   "metadata": {},
   "outputs": [],
   "source": [
    "import pandas as pd"
   ]
  },
  {
   "cell_type": "code",
   "execution_count": 3,
   "id": "94f1b367",
   "metadata": {},
   "outputs": [],
   "source": [
    "df = pd.read_csv(\"data/pre_processed_data.csv\")"
   ]
  },
  {
   "cell_type": "code",
   "execution_count": 4,
   "id": "6f6b5450",
   "metadata": {},
   "outputs": [
    {
     "name": "stdout",
     "output_type": "stream",
     "text": [
      "[     1      4      6 ... 332782 332784 332785]\n"
     ]
    }
   ],
   "source": [
    "search_id = pd.unique(df['srch_id'].values.ravel())\n",
    "print(search_id)"
   ]
  },
  {
   "cell_type": "code",
   "execution_count": 6,
   "id": "594b9d99",
   "metadata": {},
   "outputs": [
    {
     "data": {
      "text/plain": [
       "199795"
      ]
     },
     "execution_count": 6,
     "metadata": {},
     "output_type": "execute_result"
    }
   ],
   "source": [
    "len(search_id)"
   ]
  },
  {
   "cell_type": "code",
   "execution_count": 7,
   "id": "da13093b",
   "metadata": {},
   "outputs": [
    {
     "name": "stdout",
     "output_type": "stream",
     "text": [
      "[    1     4     6 ... 66519 66521 66522]\n"
     ]
    }
   ],
   "source": [
    "val_searchids = search_id[:40000]\n",
    "print(val_searchids)"
   ]
  },
  {
   "cell_type": "code",
   "execution_count": 8,
   "id": "5833d7a8",
   "metadata": {},
   "outputs": [
    {
     "name": "stdout",
     "output_type": "stream",
     "text": [
      "<bound method NDFrame.head of         srch_id  site_id  visitor_location_country_id  prop_country_id  \\\n",
      "0             1       12                          187              219   \n",
      "1             1       12                          187              219   \n",
      "2             1       12                          187              219   \n",
      "3             1       12                          187              219   \n",
      "4             1       12                          187              219   \n",
      "...         ...      ...                          ...              ...   \n",
      "995747    66522        5                          219              137   \n",
      "995748    66522        5                          219              137   \n",
      "995749    66522        5                          219              137   \n",
      "995750    66522        5                          219              137   \n",
      "995751    66522        5                          219              137   \n",
      "\n",
      "        prop_id  prop_starrating  prop_review_score  prop_brand_bool  \\\n",
      "0           893                3                3.5                1   \n",
      "1         10404                4                4.0                1   \n",
      "2         21315                3                4.5                1   \n",
      "3         27348                2                4.0                1   \n",
      "4         29604                4                3.5                1   \n",
      "...         ...              ...                ...              ...   \n",
      "995747   117266                4                3.5                0   \n",
      "995748   123573                5                3.5                1   \n",
      "995749   126620                3                4.0                0   \n",
      "995750   128007                5                4.5                0   \n",
      "995751   129398                4                3.5                0   \n",
      "\n",
      "        prop_location_score2  prop_log_historical_price  ...  click_bool  \\\n",
      "0                     0.0438                       4.95  ...           0   \n",
      "1                     0.0149                       5.03  ...           0   \n",
      "2                     0.0245                       4.92  ...           0   \n",
      "3                     0.0125                       4.39  ...           0   \n",
      "4                     0.1241                       4.93  ...           0   \n",
      "...                      ...                        ...  ...         ...   \n",
      "995747                0.2147                       0.00  ...           0   \n",
      "995748                0.1707                       0.00  ...           0   \n",
      "995749                0.0477                       0.00  ...           0   \n",
      "995750                0.2129                       0.00  ...           0   \n",
      "995751                0.2169                       0.00  ...           0   \n",
      "\n",
      "        booking_bool  year  month  comp_rate  comp_inv  \\\n",
      "0                  0  2013      4        0.0       0.0   \n",
      "1                  0  2013      4        0.0       1.0   \n",
      "2                  0  2013      4        0.0       0.0   \n",
      "3                  0  2013      4       -3.0       1.0   \n",
      "4                  0  2013      4        0.0       0.0   \n",
      "...              ...   ...    ...        ...       ...   \n",
      "995747             0  2013      6       -2.0       0.0   \n",
      "995748             0  2013      6        2.0       0.0   \n",
      "995749             0  2013      6        0.0       0.0   \n",
      "995750             0  2013      6        1.0       0.0   \n",
      "995751             0  2013      6        0.0       0.0   \n",
      "\n",
      "        comp_rate_percent_diff  usd_diff  starrating_diff  target  \n",
      "0                          0.0    104.77              3.0       0  \n",
      "1                          0.0    170.74              4.0       0  \n",
      "2                          0.0    179.80              3.0       0  \n",
      "3                         15.0    602.77              2.0       0  \n",
      "4                          0.0    143.58              4.0       0  \n",
      "...                        ...       ...              ...     ...  \n",
      "995747                    30.0    176.00              4.0       0  \n",
      "995748                    51.0    275.00              5.0       0  \n",
      "995749                     0.0     99.00              3.0       0  \n",
      "995750                    43.0    387.00              5.0       0  \n",
      "995751                     0.0    167.00              4.0       0  \n",
      "\n",
      "[995752 rows x 32 columns]>\n"
     ]
    }
   ],
   "source": [
    "val_df = df.loc[df['srch_id'].isin(val_searchids)]\n",
    "print(val_df.head)"
   ]
  },
  {
   "cell_type": "code",
   "execution_count": 9,
   "id": "848658b9",
   "metadata": {},
   "outputs": [
    {
     "name": "stdout",
     "output_type": "stream",
     "text": [
      "<bound method NDFrame.head of          srch_id  site_id  visitor_location_country_id  prop_country_id  \\\n",
      "0              1       12                          187              219   \n",
      "1              1       12                          187              219   \n",
      "2              1       12                          187              219   \n",
      "3              1       12                          187              219   \n",
      "4              1       12                          187              219   \n",
      "...          ...      ...                          ...              ...   \n",
      "4958342   332785        5                          219              219   \n",
      "4958343   332785        5                          219              219   \n",
      "4958344   332785        5                          219              219   \n",
      "4958345   332785        5                          219              219   \n",
      "4958346   332785        5                          219              219   \n",
      "\n",
      "         prop_id  prop_starrating  prop_review_score  prop_brand_bool  \\\n",
      "0            893                3                3.5                1   \n",
      "1          10404                4                4.0                1   \n",
      "2          21315                3                4.5                1   \n",
      "3          27348                2                4.0                1   \n",
      "4          29604                4                3.5                1   \n",
      "...          ...              ...                ...              ...   \n",
      "4958342    77700                3                4.0                1   \n",
      "4958343    88083                3                4.0                1   \n",
      "4958344    94508                3                3.5                1   \n",
      "4958345   128360                3                5.0                1   \n",
      "4958346   134949                3                2.5                1   \n",
      "\n",
      "         prop_location_score2  prop_log_historical_price  ...  click_bool  \\\n",
      "0                      0.0438                       4.95  ...           0   \n",
      "1                      0.0149                       5.03  ...           0   \n",
      "2                      0.0245                       4.92  ...           0   \n",
      "3                      0.0125                       4.39  ...           0   \n",
      "4                      0.1241                       4.93  ...           0   \n",
      "...                       ...                        ...  ...         ...   \n",
      "4958342                0.0471                       0.00  ...           0   \n",
      "4958343                0.1520                       0.00  ...           0   \n",
      "4958344                0.0164                       0.00  ...           0   \n",
      "4958345                0.0662                       0.00  ...           1   \n",
      "4958346                0.0000                       0.00  ...           0   \n",
      "\n",
      "         booking_bool  year  month  comp_rate  comp_inv  \\\n",
      "0                   0  2013      4        0.0       0.0   \n",
      "1                   0  2013      4        0.0       1.0   \n",
      "2                   0  2013      4        0.0       0.0   \n",
      "3                   0  2013      4       -3.0       1.0   \n",
      "4                   0  2013      4        0.0       0.0   \n",
      "...               ...   ...    ...        ...       ...   \n",
      "4958342             0  2013      6        0.0       0.0   \n",
      "4958343             0  2013      6        0.0       0.0   \n",
      "4958344             0  2013      6        0.0       0.0   \n",
      "4958345             1  2013      6        0.0       0.0   \n",
      "4958346             0  2013      6        0.0       0.0   \n",
      "\n",
      "         comp_rate_percent_diff  usd_diff  starrating_diff  target  \n",
      "0                           0.0    104.77              3.0       0  \n",
      "1                           0.0    170.74              4.0       0  \n",
      "2                           0.0    179.80              3.0       0  \n",
      "3                          15.0    602.77              2.0       0  \n",
      "4                           0.0    143.58              4.0       0  \n",
      "...                         ...       ...              ...     ...  \n",
      "4958342                     0.0    118.00              3.0       0  \n",
      "4958343                     0.0     89.00              3.0       0  \n",
      "4958344                     0.0     99.00              3.0       0  \n",
      "4958345                     0.0    139.00              3.0       6  \n",
      "4958346                     0.0     61.00              3.0       0  \n",
      "\n",
      "[4958347 rows x 32 columns]>\n"
     ]
    }
   ],
   "source": [
    "print(df.head)"
   ]
  },
  {
   "cell_type": "code",
   "execution_count": 11,
   "id": "f846ec7e",
   "metadata": {},
   "outputs": [
    {
     "name": "stdout",
     "output_type": "stream",
     "text": [
      "<bound method NDFrame.head of          srch_id  site_id  visitor_location_country_id  prop_country_id  \\\n",
      "995752     66524       12                           99               99   \n",
      "995753     66524       12                           99               99   \n",
      "995754     66524       12                           99               99   \n",
      "995755     66524       12                           99               99   \n",
      "995756     66524       12                           99               99   \n",
      "...          ...      ...                          ...              ...   \n",
      "4958342   332785        5                          219              219   \n",
      "4958343   332785        5                          219              219   \n",
      "4958344   332785        5                          219              219   \n",
      "4958345   332785        5                          219              219   \n",
      "4958346   332785        5                          219              219   \n",
      "\n",
      "         prop_id  prop_starrating  prop_review_score  prop_brand_bool  \\\n",
      "995752      2736                4                3.0                1   \n",
      "995753      6083                3                4.0                0   \n",
      "995754     13399                3                0.0                1   \n",
      "995755     29145                3                4.0                1   \n",
      "995756     32159                0                0.0                0   \n",
      "...          ...              ...                ...              ...   \n",
      "4958342    77700                3                4.0                1   \n",
      "4958343    88083                3                4.0                1   \n",
      "4958344    94508                3                3.5                1   \n",
      "4958345   128360                3                5.0                1   \n",
      "4958346   134949                3                2.5                1   \n",
      "\n",
      "         prop_location_score2  prop_log_historical_price  ...  click_bool  \\\n",
      "995752                 0.0000                        0.0  ...           0   \n",
      "995753                 0.0000                        0.0  ...           0   \n",
      "995754                 0.0000                        0.0  ...           0   \n",
      "995755                 0.0000                        0.0  ...           0   \n",
      "995756                 0.0000                        0.0  ...           1   \n",
      "...                       ...                        ...  ...         ...   \n",
      "4958342                0.0471                        0.0  ...           0   \n",
      "4958343                0.1520                        0.0  ...           0   \n",
      "4958344                0.0164                        0.0  ...           0   \n",
      "4958345                0.0662                        0.0  ...           1   \n",
      "4958346                0.0000                        0.0  ...           0   \n",
      "\n",
      "         booking_bool  year  month  comp_rate  comp_inv  \\\n",
      "995752              0  2013      6        0.0       0.0   \n",
      "995753              0  2013      6        0.0       0.0   \n",
      "995754              0  2013      6        0.0       0.0   \n",
      "995755              0  2013      6        0.0       0.0   \n",
      "995756              0  2013      6        0.0       0.0   \n",
      "...               ...   ...    ...        ...       ...   \n",
      "4958342             0  2013      6        0.0       0.0   \n",
      "4958343             0  2013      6        0.0       0.0   \n",
      "4958344             0  2013      6        0.0       0.0   \n",
      "4958345             1  2013      6        0.0       0.0   \n",
      "4958346             0  2013      6        0.0       0.0   \n",
      "\n",
      "         comp_rate_percent_diff  usd_diff  starrating_diff  target  \n",
      "995752                      0.0    141.62              1.0       0  \n",
      "995753                      0.0     49.53              0.0       0  \n",
      "995754                      0.0      5.27              0.0       0  \n",
      "995755                      0.0     22.80              0.0       0  \n",
      "995756                      0.0      1.41              3.0       1  \n",
      "...                         ...       ...              ...     ...  \n",
      "4958342                     0.0    118.00              3.0       0  \n",
      "4958343                     0.0     89.00              3.0       0  \n",
      "4958344                     0.0     99.00              3.0       0  \n",
      "4958345                     0.0    139.00              3.0       6  \n",
      "4958346                     0.0     61.00              3.0       0  \n",
      "\n",
      "[3962595 rows x 32 columns]>\n"
     ]
    }
   ],
   "source": [
    "test_df = df.loc[~df['srch_id'].isin(val_searchids)]\n",
    "print(test_df.head)"
   ]
  },
  {
   "cell_type": "code",
   "execution_count": 44,
   "id": "cad6d29b",
   "metadata": {
    "scrolled": true
   },
   "outputs": [
    {
     "name": "stdout",
     "output_type": "stream",
     "text": [
      "           0  srch_id  prop_id\n",
      "2685389  4.0   180797    18338\n",
      "919926   4.0    61824    98592\n",
      "970655   4.0    65271    14285\n",
      "600365   4.0    40305    45643\n",
      "3026911  4.0   203714    84889\n",
      "...      ...      ...      ...\n",
      "2588457  0.0   174343    79113\n",
      "2588461  0.0   174343   117997\n",
      "2588460  0.0   174343   116609\n",
      "2588463  0.0   174343   124051\n",
      "2588465  0.0   174343   127543\n",
      "\n",
      "[4192923 rows x 3 columns]\n"
     ]
    }
   ],
   "source": [
    "prediction_output = pd.read_csv(\"output.csv\")\n",
    "#print(prediction_output.head)\n"
   ]
  },
  {
   "cell_type": "code",
   "execution_count": 45,
   "id": "3144c871",
   "metadata": {},
   "outputs": [],
   "source": [
    "search_id = pd.unique(prediction_output['srch_id'].values.ravel())"
   ]
  },
  {
   "cell_type": "code",
   "execution_count": 46,
   "id": "04d52a04",
   "metadata": {},
   "outputs": [
    {
     "ename": "KeyboardInterrupt",
     "evalue": "",
     "output_type": "error",
     "traceback": [
      "\u001b[1;31m---------------------------------------------------------------------------\u001b[0m",
      "\u001b[1;31mKeyboardInterrupt\u001b[0m                         Traceback (most recent call last)",
      "Input \u001b[1;32mIn [46]\u001b[0m, in \u001b[0;36m<cell line: 2>\u001b[1;34m()\u001b[0m\n\u001b[0;32m      1\u001b[0m dummy \u001b[38;5;241m=\u001b[39m []\n\u001b[0;32m      2\u001b[0m \u001b[38;5;28;01mfor\u001b[39;00m x \u001b[38;5;129;01min\u001b[39;00m search_id:\n\u001b[1;32m----> 3\u001b[0m     dat \u001b[38;5;241m=\u001b[39m \u001b[43mprediction_output\u001b[49m\u001b[38;5;241;43m.\u001b[39;49m\u001b[43mloc\u001b[49m\u001b[43m[\u001b[49m\u001b[43mprediction_output\u001b[49m\u001b[43m[\u001b[49m\u001b[38;5;124;43m'\u001b[39;49m\u001b[38;5;124;43msrch_id\u001b[39;49m\u001b[38;5;124;43m'\u001b[39;49m\u001b[43m]\u001b[49m\u001b[43m \u001b[49m\u001b[38;5;241;43m==\u001b[39;49m\u001b[43m \u001b[49m\u001b[43mx\u001b[49m\u001b[43m]\u001b[49m\n\u001b[0;32m      4\u001b[0m     dat \u001b[38;5;241m=\u001b[39m dat\u001b[38;5;241m.\u001b[39msort_values(by\u001b[38;5;241m=\u001b[39m[\u001b[38;5;124m'\u001b[39m\u001b[38;5;124m0\u001b[39m\u001b[38;5;124m'\u001b[39m])\n\u001b[0;32m      5\u001b[0m     dummy\u001b[38;5;241m.\u001b[39mappend(dat)\n",
      "File \u001b[1;32m~\\miniconda3\\envs\\dmt\\lib\\site-packages\\pandas\\core\\indexing.py:967\u001b[0m, in \u001b[0;36m_LocationIndexer.__getitem__\u001b[1;34m(self, key)\u001b[0m\n\u001b[0;32m    964\u001b[0m axis \u001b[38;5;241m=\u001b[39m \u001b[38;5;28mself\u001b[39m\u001b[38;5;241m.\u001b[39maxis \u001b[38;5;129;01mor\u001b[39;00m \u001b[38;5;241m0\u001b[39m\n\u001b[0;32m    966\u001b[0m maybe_callable \u001b[38;5;241m=\u001b[39m com\u001b[38;5;241m.\u001b[39mapply_if_callable(key, \u001b[38;5;28mself\u001b[39m\u001b[38;5;241m.\u001b[39mobj)\n\u001b[1;32m--> 967\u001b[0m \u001b[38;5;28;01mreturn\u001b[39;00m \u001b[38;5;28;43mself\u001b[39;49m\u001b[38;5;241;43m.\u001b[39;49m\u001b[43m_getitem_axis\u001b[49m\u001b[43m(\u001b[49m\u001b[43mmaybe_callable\u001b[49m\u001b[43m,\u001b[49m\u001b[43m \u001b[49m\u001b[43maxis\u001b[49m\u001b[38;5;241;43m=\u001b[39;49m\u001b[43maxis\u001b[49m\u001b[43m)\u001b[49m\n",
      "File \u001b[1;32m~\\miniconda3\\envs\\dmt\\lib\\site-packages\\pandas\\core\\indexing.py:1182\u001b[0m, in \u001b[0;36m_LocIndexer._getitem_axis\u001b[1;34m(self, key, axis)\u001b[0m\n\u001b[0;32m   1180\u001b[0m     \u001b[38;5;28;01mreturn\u001b[39;00m \u001b[38;5;28mself\u001b[39m\u001b[38;5;241m.\u001b[39m_get_slice_axis(key, axis\u001b[38;5;241m=\u001b[39maxis)\n\u001b[0;32m   1181\u001b[0m \u001b[38;5;28;01melif\u001b[39;00m com\u001b[38;5;241m.\u001b[39mis_bool_indexer(key):\n\u001b[1;32m-> 1182\u001b[0m     \u001b[38;5;28;01mreturn\u001b[39;00m \u001b[38;5;28;43mself\u001b[39;49m\u001b[38;5;241;43m.\u001b[39;49m\u001b[43m_getbool_axis\u001b[49m\u001b[43m(\u001b[49m\u001b[43mkey\u001b[49m\u001b[43m,\u001b[49m\u001b[43m \u001b[49m\u001b[43maxis\u001b[49m\u001b[38;5;241;43m=\u001b[39;49m\u001b[43maxis\u001b[49m\u001b[43m)\u001b[49m\n\u001b[0;32m   1183\u001b[0m \u001b[38;5;28;01melif\u001b[39;00m is_list_like_indexer(key):\n\u001b[0;32m   1184\u001b[0m \n\u001b[0;32m   1185\u001b[0m     \u001b[38;5;66;03m# an iterable multi-selection\u001b[39;00m\n\u001b[0;32m   1186\u001b[0m     \u001b[38;5;28;01mif\u001b[39;00m \u001b[38;5;129;01mnot\u001b[39;00m (\u001b[38;5;28misinstance\u001b[39m(key, \u001b[38;5;28mtuple\u001b[39m) \u001b[38;5;129;01mand\u001b[39;00m \u001b[38;5;28misinstance\u001b[39m(labels, MultiIndex)):\n",
      "File \u001b[1;32m~\\miniconda3\\envs\\dmt\\lib\\site-packages\\pandas\\core\\indexing.py:985\u001b[0m, in \u001b[0;36m_LocationIndexer._getbool_axis\u001b[1;34m(self, key, axis)\u001b[0m\n\u001b[0;32m    983\u001b[0m labels \u001b[38;5;241m=\u001b[39m \u001b[38;5;28mself\u001b[39m\u001b[38;5;241m.\u001b[39mobj\u001b[38;5;241m.\u001b[39m_get_axis(axis)\n\u001b[0;32m    984\u001b[0m key \u001b[38;5;241m=\u001b[39m check_bool_indexer(labels, key)\n\u001b[1;32m--> 985\u001b[0m inds \u001b[38;5;241m=\u001b[39m \u001b[43mkey\u001b[49m\u001b[38;5;241;43m.\u001b[39;49m\u001b[43mnonzero\u001b[49m\u001b[43m(\u001b[49m\u001b[43m)\u001b[49m[\u001b[38;5;241m0\u001b[39m]\n\u001b[0;32m    986\u001b[0m \u001b[38;5;28;01mreturn\u001b[39;00m \u001b[38;5;28mself\u001b[39m\u001b[38;5;241m.\u001b[39mobj\u001b[38;5;241m.\u001b[39m_take_with_is_copy(inds, axis\u001b[38;5;241m=\u001b[39maxis)\n",
      "\u001b[1;31mKeyboardInterrupt\u001b[0m: "
     ]
    }
   ],
   "source": [
    "dummy = []\n",
    "for x in search_id:\n",
    "    dat = prediction_output.loc[prediction_output['srch_id'] == x]\n",
    "    dat = dat.sort_values(by=['0'])\n",
    "    dummy.append(dat)\n",
    "output = pd.concat(dummy)\n",
    "print(output.head)"
   ]
  },
  {
   "cell_type": "code",
   "execution_count": 53,
   "id": "99a9f061",
   "metadata": {},
   "outputs": [
    {
     "name": "stdout",
     "output_type": "stream",
     "text": [
      "           0  srch_id  prop_id\n",
      "21       1.0        1    94729\n",
      "9        0.8        1    54937\n",
      "0        0.5        1     3180\n",
      "1        0.5        1     5543\n",
      "11       0.4        1    61632\n",
      "...      ...      ...      ...\n",
      "4959176  0.4   332787    22854\n",
      "4959182  0.4   332787    99509\n",
      "4959179  0.1   332787    33959\n",
      "4959177  0.0   332787    29018\n",
      "4959180  0.0   332787    35240\n",
      "\n",
      "[3523475 rows x 3 columns]\n"
     ]
    }
   ],
   "source": [
    "#df_agg['count'].groupby('job', group_keys=False).nlargest(3)\n",
    "\n",
    "\n",
    "output = prediction_output.sort_values(['srch_id', '0'], ascending=[True, False]).groupby('srch_id').head(20)\n",
    "print(output)"
   ]
  },
  {
   "cell_type": "code",
   "execution_count": 58,
   "id": "505c010a",
   "metadata": {},
   "outputs": [
    {
     "name": "stdout",
     "output_type": "stream",
     "text": [
      "      0  srch_id  prop_id\n",
      "21  1.0        1    94729\n",
      "9   0.8        1    54937\n",
      "0   0.5        1     3180\n",
      "1   0.5        1     5543\n",
      "11  0.4        1    61632\n",
      "20  0.4        1    90385\n",
      "16  0.4        1    74045\n",
      "27  0.4        1   134992\n",
      "10  0.0        1    56050\n",
      "8   0.0        1    50162\n",
      "6   0.0        1    34263\n",
      "5   0.0        1    28181\n",
      "12  0.0        1    61934\n",
      "7   0.0        1    37567\n",
      "4   0.0        1    24194\n",
      "3   0.0        1    22393\n",
      "14  0.0        1    72090\n",
      "13  0.0        1    63894\n",
      "15  0.0        1    73666\n",
      "17  0.0        1    78599\n"
     ]
    }
   ],
   "source": [
    "query1 = output[output['srch_id'] == 1]\n",
    "print(query1.head)\n",
    "\n",
    "df1 = df[df['srch_id'] == 1]\n"
   ]
  },
  {
   "cell_type": "code",
   "execution_count": null,
   "id": "33c9a182",
   "metadata": {},
   "outputs": [],
   "source": [
    "prop_ids = pd.unique(prediction_output['prop_id'].values.ravel())\n",
    "\n",
    "for x in prop_ids:\n",
    "    "
   ]
  }
 ],
 "metadata": {
  "kernelspec": {
   "display_name": "Python 3 (ipykernel)",
   "language": "python",
   "name": "python3"
  },
  "language_info": {
   "codemirror_mode": {
    "name": "ipython",
    "version": 3
   },
   "file_extension": ".py",
   "mimetype": "text/x-python",
   "name": "python",
   "nbconvert_exporter": "python",
   "pygments_lexer": "ipython3",
   "version": "3.8.13"
  }
 },
 "nbformat": 4,
 "nbformat_minor": 5
}
